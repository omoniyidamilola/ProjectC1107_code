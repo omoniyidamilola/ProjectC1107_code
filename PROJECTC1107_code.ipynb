{
 "cells": [
  {
   "cell_type": "markdown",
   "id": "252323d9",
   "metadata": {},
   "source": [
    "# Telco Customer Churn"
   ]
  },
  {
   "cell_type": "markdown",
   "id": "69a0c9ab",
   "metadata": {},
   "source": [
    "About Dataset\n",
    "\n",
    "Predict behavior to retain customers. You can analyze all relevant customer data and develop focused customer retention programs.\n",
    "\n",
    "Dataset:\n",
    "\n",
    "https://www.kaggle.com/datasets/blastchar/telco-customer-churn\n",
    "\n",
    "Each row represents a customer, each column contains customer’s attributes described on the column Metadata.\n",
    "\n",
    "The data set includes information about:\n",
    "\n",
    "Customers who left within the last month – the column is called Churn Services that each customer has signed up for : \n",
    "\n",
    "phone, \n",
    "\n",
    "multiple lines, \n",
    "\n",
    "Internet,\n",
    "\n",
    "online security, \n",
    "\n",
    "online backup, \n",
    "\n",
    "device protection, \n",
    "\n",
    "tech support, and \n",
    "\n",
    "streaming TV and movies.\n",
    "\n",
    "Customer account information – how long they’ve been a customer, contract, payment method, paperless billing, monthly charges, and total charges.\n",
    "\n",
    "Demographic info about customers – gender, age range, and if they have partners and dependents.\n",
    "\n"
   ]
  },
  {
   "cell_type": "markdown",
   "id": "a7792d82",
   "metadata": {},
   "source": [
    "TODO:\n",
    "\n",
    "\n",
    "Preprocessing:\n",
    "Perform initial data preparation by converting the 'TotalCharges' column to numeric values and filling missing values with 0.\n",
    "\n",
    "\n",
    "Convert the 'Churn' column to binary values, where 'No' is mapped to 0 and 'Yes' is mapped to 1.<br>\n",
    "\n",
    "\n",
    "Split the data into an 80-20 train-test split with a random state of “1”.<br>\n",
    "\n",
    "\n",
    "Select these features:  \n",
    "categorical = ['gender', 'SeniorCitizen', 'Partner', 'Dependents', 'PhoneService', 'MultipleLines', 'InternetService','OnlineSecurity', 'OnlineBackup', 'DeviceProtection', 'TechSupport', 'StreamingTV', 'StreamingMovies','Contract', 'PaperlessBilling', 'PaymentMethod']\n",
    "numerical = ['tenure', 'MonthlyCharges', 'TotalCharges']<br>\n",
    "\n",
    "\n",
    "Feature engineering:\n",
    "The numerical features should be scaled using StandardScaler, convert the output back to a dataframe and put back the column names.\n",
    "The categorical features are one-hot encoded using OneHotEncoder(set sparse_output to false), convert the output back to a dataframe and put back the column names.<br>\n",
    "Combine scaled numerical and one-hot encoded categorical features into train and test set dataframes (use pd.concat)<br>\n",
    "Use scikit learn to train a random forest and extra trees classifier, and use xgboost and lightgbm to train an extreme boosting model and a light gradient boosting model. Use random_state = 1 for training all models and evaluate on the test set. "
   ]
  },
  {
   "cell_type": "markdown",
   "id": "1cacb001",
   "metadata": {},
   "source": [
    "Answer the following questions:\n",
    "\n",
    "\n",
    "Question 14: What is the accuracy on the test set using the random forest classifier?\n",
    "\n",
    "\n",
    "Question 15: What is the accuracy on the test set using the xgboost classifier? \n",
    "\n",
    "\n",
    "Question 16: What is the accuracy on the test set using the LGBM classifier? \n",
    "\n",
    "\n",
    "Question 17: To improve the Extra Trees Classifier, you will use the following parameters (number of estimators, minimum number of samples, minimum number of samples for leaf node and the number of features to consider when looking for the best split) for the hyperparameter grid needed to run a Randomized Cross Validation Search (RandomizedSearchCV). \n",
    "\n",
    "n_estimators = [50, 100, 300, 500, 1000]\n",
    "\n",
    "min_samples_split = [2, 3, 5, 7, 9]\n",
    "\n",
    "min_samples_leaf = [1, 2, 4, 6, 8]\n",
    "\n",
    "max_features = ['auto', 'sqrt', 'log2', None] \n",
    "\n",
    "hyperparameter_grid = {'n_estimators': n_estimators,\n",
    "\n",
    "                       'min_samples_leaf': min_samples_leaf,\n",
    "\n",
    "                       'min_samples_split': min_samples_split,\n",
    "\n",
    "                       'max_features': max_features}\n",
    "\n",
    "Using the ExtraTreesClassifier as your estimator with cv=5, n_iter=10, scoring = 'accuracy', n_jobs = -1, verbose = 1 and random_state = 1. What are the best hyperparameters from the randomized search CV?       \n",
    "\n",
    "\n",
    "Question 18: Train a new ExtraTreesClassifier Model with the new Hyperparameters from the RandomizedSearchCV (with random_state = 1). Is the accuracy of the new optimal model higher or lower than the initial ExtraTreesClassifier model with no hyperparameter tuning?\n",
    "    \n",
    "    \n",
    "Question 19: What other hyperparameters can be tuned for ExtraTreeClassifer?\n",
    "\n",
    "\n",
    "Question 20: Find the feature importance using the optimal ExtraTreesClassifier model. Which features are the two most important respectively?\n",
    "\n",
    "  \n"
   ]
  },
  {
   "cell_type": "markdown",
   "id": "f2fdbff9",
   "metadata": {},
   "source": [
    "# Import Libraries"
   ]
  },
  {
   "cell_type": "code",
   "execution_count": 68,
   "id": "e48b5a3a",
   "metadata": {},
   "outputs": [
    {
     "name": "stdout",
     "output_type": "stream",
     "text": [
      "Defaulting to user installation because normal site-packages is not writeable\n",
      "Requirement already satisfied: missingno in c:\\users\\innoc\\appdata\\roaming\\python\\python311\\site-packages (0.5.2)\n",
      "Requirement already satisfied: numpy in c:\\programdata\\anaconda3\\lib\\site-packages (from missingno) (1.24.3)\n",
      "Requirement already satisfied: matplotlib in c:\\programdata\\anaconda3\\lib\\site-packages (from missingno) (3.7.1)\n",
      "Requirement already satisfied: scipy in c:\\programdata\\anaconda3\\lib\\site-packages (from missingno) (1.10.1)\n",
      "Requirement already satisfied: seaborn in c:\\programdata\\anaconda3\\lib\\site-packages (from missingno) (0.12.2)\n",
      "Requirement already satisfied: contourpy>=1.0.1 in c:\\programdata\\anaconda3\\lib\\site-packages (from matplotlib->missingno) (1.0.5)\n",
      "Requirement already satisfied: cycler>=0.10 in c:\\programdata\\anaconda3\\lib\\site-packages (from matplotlib->missingno) (0.11.0)\n",
      "Requirement already satisfied: fonttools>=4.22.0 in c:\\programdata\\anaconda3\\lib\\site-packages (from matplotlib->missingno) (4.25.0)\n",
      "Requirement already satisfied: kiwisolver>=1.0.1 in c:\\programdata\\anaconda3\\lib\\site-packages (from matplotlib->missingno) (1.4.4)\n",
      "Requirement already satisfied: packaging>=20.0 in c:\\programdata\\anaconda3\\lib\\site-packages (from matplotlib->missingno) (23.0)\n",
      "Requirement already satisfied: pillow>=6.2.0 in c:\\programdata\\anaconda3\\lib\\site-packages (from matplotlib->missingno) (9.4.0)\n",
      "Requirement already satisfied: pyparsing>=2.3.1 in c:\\programdata\\anaconda3\\lib\\site-packages (from matplotlib->missingno) (3.0.9)\n",
      "Requirement already satisfied: python-dateutil>=2.7 in c:\\programdata\\anaconda3\\lib\\site-packages (from matplotlib->missingno) (2.8.2)\n",
      "Requirement already satisfied: pandas>=0.25 in c:\\programdata\\anaconda3\\lib\\site-packages (from seaborn->missingno) (1.5.3)\n",
      "Requirement already satisfied: pytz>=2020.1 in c:\\programdata\\anaconda3\\lib\\site-packages (from pandas>=0.25->seaborn->missingno) (2022.7)\n",
      "Requirement already satisfied: six>=1.5 in c:\\programdata\\anaconda3\\lib\\site-packages (from python-dateutil>=2.7->matplotlib->missingno) (1.16.0)\n"
     ]
    }
   ],
   "source": [
    "import pandas as pd\n",
    "from sklearn.model_selection import train_test_split\n",
    "from sklearn.preprocessing import StandardScaler, OneHotEncoder\n",
    "from sklearn.ensemble import RandomForestClassifier, ExtraTreesClassifier\n",
    "from xgboost import XGBClassifier\n",
    "from lightgbm import LGBMClassifier\n",
    "from sklearn.metrics import accuracy_score\n",
    "from sklearn.model_selection import RandomizedSearchCV\n",
    "from sklearn.ensemble import ExtraTreesClassifier\n",
    "from sklearn.metrics import accuracy_score\n",
    "!pip install missingno\n",
    "import missingno as msno\n"
   ]
  },
  {
   "cell_type": "code",
   "execution_count": 69,
   "id": "c1582573",
   "metadata": {},
   "outputs": [],
   "source": [
    "# Load the dataset\n",
    "telco = pd.read_csv(\"WA_Fn-UseC_-Telco-Customer-Churn.csv\")"
   ]
  },
  {
   "cell_type": "code",
   "execution_count": 70,
   "id": "4caa5a71",
   "metadata": {},
   "outputs": [
    {
     "data": {
      "text/html": [
       "<div>\n",
       "<style scoped>\n",
       "    .dataframe tbody tr th:only-of-type {\n",
       "        vertical-align: middle;\n",
       "    }\n",
       "\n",
       "    .dataframe tbody tr th {\n",
       "        vertical-align: top;\n",
       "    }\n",
       "\n",
       "    .dataframe thead th {\n",
       "        text-align: right;\n",
       "    }\n",
       "</style>\n",
       "<table border=\"1\" class=\"dataframe\">\n",
       "  <thead>\n",
       "    <tr style=\"text-align: right;\">\n",
       "      <th></th>\n",
       "      <th>customerID</th>\n",
       "      <th>gender</th>\n",
       "      <th>SeniorCitizen</th>\n",
       "      <th>Partner</th>\n",
       "      <th>Dependents</th>\n",
       "      <th>tenure</th>\n",
       "      <th>PhoneService</th>\n",
       "      <th>MultipleLines</th>\n",
       "      <th>InternetService</th>\n",
       "      <th>OnlineSecurity</th>\n",
       "      <th>...</th>\n",
       "      <th>DeviceProtection</th>\n",
       "      <th>TechSupport</th>\n",
       "      <th>StreamingTV</th>\n",
       "      <th>StreamingMovies</th>\n",
       "      <th>Contract</th>\n",
       "      <th>PaperlessBilling</th>\n",
       "      <th>PaymentMethod</th>\n",
       "      <th>MonthlyCharges</th>\n",
       "      <th>TotalCharges</th>\n",
       "      <th>Churn</th>\n",
       "    </tr>\n",
       "  </thead>\n",
       "  <tbody>\n",
       "    <tr>\n",
       "      <th>0</th>\n",
       "      <td>7590-VHVEG</td>\n",
       "      <td>Female</td>\n",
       "      <td>0</td>\n",
       "      <td>Yes</td>\n",
       "      <td>No</td>\n",
       "      <td>1</td>\n",
       "      <td>No</td>\n",
       "      <td>No phone service</td>\n",
       "      <td>DSL</td>\n",
       "      <td>No</td>\n",
       "      <td>...</td>\n",
       "      <td>No</td>\n",
       "      <td>No</td>\n",
       "      <td>No</td>\n",
       "      <td>No</td>\n",
       "      <td>Month-to-month</td>\n",
       "      <td>Yes</td>\n",
       "      <td>Electronic check</td>\n",
       "      <td>29.85</td>\n",
       "      <td>29.85</td>\n",
       "      <td>No</td>\n",
       "    </tr>\n",
       "    <tr>\n",
       "      <th>1</th>\n",
       "      <td>5575-GNVDE</td>\n",
       "      <td>Male</td>\n",
       "      <td>0</td>\n",
       "      <td>No</td>\n",
       "      <td>No</td>\n",
       "      <td>34</td>\n",
       "      <td>Yes</td>\n",
       "      <td>No</td>\n",
       "      <td>DSL</td>\n",
       "      <td>Yes</td>\n",
       "      <td>...</td>\n",
       "      <td>Yes</td>\n",
       "      <td>No</td>\n",
       "      <td>No</td>\n",
       "      <td>No</td>\n",
       "      <td>One year</td>\n",
       "      <td>No</td>\n",
       "      <td>Mailed check</td>\n",
       "      <td>56.95</td>\n",
       "      <td>1889.5</td>\n",
       "      <td>No</td>\n",
       "    </tr>\n",
       "    <tr>\n",
       "      <th>2</th>\n",
       "      <td>3668-QPYBK</td>\n",
       "      <td>Male</td>\n",
       "      <td>0</td>\n",
       "      <td>No</td>\n",
       "      <td>No</td>\n",
       "      <td>2</td>\n",
       "      <td>Yes</td>\n",
       "      <td>No</td>\n",
       "      <td>DSL</td>\n",
       "      <td>Yes</td>\n",
       "      <td>...</td>\n",
       "      <td>No</td>\n",
       "      <td>No</td>\n",
       "      <td>No</td>\n",
       "      <td>No</td>\n",
       "      <td>Month-to-month</td>\n",
       "      <td>Yes</td>\n",
       "      <td>Mailed check</td>\n",
       "      <td>53.85</td>\n",
       "      <td>108.15</td>\n",
       "      <td>Yes</td>\n",
       "    </tr>\n",
       "    <tr>\n",
       "      <th>3</th>\n",
       "      <td>7795-CFOCW</td>\n",
       "      <td>Male</td>\n",
       "      <td>0</td>\n",
       "      <td>No</td>\n",
       "      <td>No</td>\n",
       "      <td>45</td>\n",
       "      <td>No</td>\n",
       "      <td>No phone service</td>\n",
       "      <td>DSL</td>\n",
       "      <td>Yes</td>\n",
       "      <td>...</td>\n",
       "      <td>Yes</td>\n",
       "      <td>Yes</td>\n",
       "      <td>No</td>\n",
       "      <td>No</td>\n",
       "      <td>One year</td>\n",
       "      <td>No</td>\n",
       "      <td>Bank transfer (automatic)</td>\n",
       "      <td>42.30</td>\n",
       "      <td>1840.75</td>\n",
       "      <td>No</td>\n",
       "    </tr>\n",
       "    <tr>\n",
       "      <th>4</th>\n",
       "      <td>9237-HQITU</td>\n",
       "      <td>Female</td>\n",
       "      <td>0</td>\n",
       "      <td>No</td>\n",
       "      <td>No</td>\n",
       "      <td>2</td>\n",
       "      <td>Yes</td>\n",
       "      <td>No</td>\n",
       "      <td>Fiber optic</td>\n",
       "      <td>No</td>\n",
       "      <td>...</td>\n",
       "      <td>No</td>\n",
       "      <td>No</td>\n",
       "      <td>No</td>\n",
       "      <td>No</td>\n",
       "      <td>Month-to-month</td>\n",
       "      <td>Yes</td>\n",
       "      <td>Electronic check</td>\n",
       "      <td>70.70</td>\n",
       "      <td>151.65</td>\n",
       "      <td>Yes</td>\n",
       "    </tr>\n",
       "  </tbody>\n",
       "</table>\n",
       "<p>5 rows × 21 columns</p>\n",
       "</div>"
      ],
      "text/plain": [
       "   customerID  gender  SeniorCitizen Partner Dependents  tenure PhoneService  \\\n",
       "0  7590-VHVEG  Female              0     Yes         No       1           No   \n",
       "1  5575-GNVDE    Male              0      No         No      34          Yes   \n",
       "2  3668-QPYBK    Male              0      No         No       2          Yes   \n",
       "3  7795-CFOCW    Male              0      No         No      45           No   \n",
       "4  9237-HQITU  Female              0      No         No       2          Yes   \n",
       "\n",
       "      MultipleLines InternetService OnlineSecurity  ... DeviceProtection  \\\n",
       "0  No phone service             DSL             No  ...               No   \n",
       "1                No             DSL            Yes  ...              Yes   \n",
       "2                No             DSL            Yes  ...               No   \n",
       "3  No phone service             DSL            Yes  ...              Yes   \n",
       "4                No     Fiber optic             No  ...               No   \n",
       "\n",
       "  TechSupport StreamingTV StreamingMovies        Contract PaperlessBilling  \\\n",
       "0          No          No              No  Month-to-month              Yes   \n",
       "1          No          No              No        One year               No   \n",
       "2          No          No              No  Month-to-month              Yes   \n",
       "3         Yes          No              No        One year               No   \n",
       "4          No          No              No  Month-to-month              Yes   \n",
       "\n",
       "               PaymentMethod MonthlyCharges  TotalCharges Churn  \n",
       "0           Electronic check          29.85         29.85    No  \n",
       "1               Mailed check          56.95        1889.5    No  \n",
       "2               Mailed check          53.85        108.15   Yes  \n",
       "3  Bank transfer (automatic)          42.30       1840.75    No  \n",
       "4           Electronic check          70.70        151.65   Yes  \n",
       "\n",
       "[5 rows x 21 columns]"
      ]
     },
     "execution_count": 70,
     "metadata": {},
     "output_type": "execute_result"
    }
   ],
   "source": [
    "telco.head()"
   ]
  },
  {
   "cell_type": "code",
   "execution_count": 71,
   "id": "5d587f71",
   "metadata": {},
   "outputs": [
    {
     "name": "stdout",
     "output_type": "stream",
     "text": [
      "Telco has 7043 rows and 21 columns\n"
     ]
    }
   ],
   "source": [
    "#Describe dataset\n",
    "print (f\"Telco has {telco.shape[0]} rows and {telco.shape[1]} columns\")"
   ]
  },
  {
   "cell_type": "code",
   "execution_count": 72,
   "id": "42b73ae8",
   "metadata": {},
   "outputs": [
    {
     "data": {
      "text/html": [
       "<div>\n",
       "<style scoped>\n",
       "    .dataframe tbody tr th:only-of-type {\n",
       "        vertical-align: middle;\n",
       "    }\n",
       "\n",
       "    .dataframe tbody tr th {\n",
       "        vertical-align: top;\n",
       "    }\n",
       "\n",
       "    .dataframe thead th {\n",
       "        text-align: right;\n",
       "    }\n",
       "</style>\n",
       "<table border=\"1\" class=\"dataframe\">\n",
       "  <thead>\n",
       "    <tr style=\"text-align: right;\">\n",
       "      <th></th>\n",
       "      <th>count</th>\n",
       "      <th>mean</th>\n",
       "      <th>std</th>\n",
       "      <th>min</th>\n",
       "      <th>25%</th>\n",
       "      <th>50%</th>\n",
       "      <th>75%</th>\n",
       "      <th>max</th>\n",
       "    </tr>\n",
       "  </thead>\n",
       "  <tbody>\n",
       "    <tr>\n",
       "      <th>SeniorCitizen</th>\n",
       "      <td>7043.0</td>\n",
       "      <td>0.162147</td>\n",
       "      <td>0.368612</td>\n",
       "      <td>0.00</td>\n",
       "      <td>0.0</td>\n",
       "      <td>0.00</td>\n",
       "      <td>0.00</td>\n",
       "      <td>1.00</td>\n",
       "    </tr>\n",
       "    <tr>\n",
       "      <th>tenure</th>\n",
       "      <td>7043.0</td>\n",
       "      <td>32.371149</td>\n",
       "      <td>24.559481</td>\n",
       "      <td>0.00</td>\n",
       "      <td>9.0</td>\n",
       "      <td>29.00</td>\n",
       "      <td>55.00</td>\n",
       "      <td>72.00</td>\n",
       "    </tr>\n",
       "    <tr>\n",
       "      <th>MonthlyCharges</th>\n",
       "      <td>7043.0</td>\n",
       "      <td>64.761692</td>\n",
       "      <td>30.090047</td>\n",
       "      <td>18.25</td>\n",
       "      <td>35.5</td>\n",
       "      <td>70.35</td>\n",
       "      <td>89.85</td>\n",
       "      <td>118.75</td>\n",
       "    </tr>\n",
       "  </tbody>\n",
       "</table>\n",
       "</div>"
      ],
      "text/plain": [
       "                 count       mean        std    min   25%    50%    75%  \\\n",
       "SeniorCitizen   7043.0   0.162147   0.368612   0.00   0.0   0.00   0.00   \n",
       "tenure          7043.0  32.371149  24.559481   0.00   9.0  29.00  55.00   \n",
       "MonthlyCharges  7043.0  64.761692  30.090047  18.25  35.5  70.35  89.85   \n",
       "\n",
       "                   max  \n",
       "SeniorCitizen     1.00  \n",
       "tenure           72.00  \n",
       "MonthlyCharges  118.75  "
      ]
     },
     "execution_count": 72,
     "metadata": {},
     "output_type": "execute_result"
    }
   ],
   "source": [
    "#statistical info about the numerical variables.\n",
    "telco.describe().T"
   ]
  },
  {
   "cell_type": "code",
   "execution_count": 73,
   "id": "d605db20",
   "metadata": {},
   "outputs": [
    {
     "name": "stdout",
     "output_type": "stream",
     "text": [
      "<class 'pandas.core.frame.DataFrame'>\n",
      "RangeIndex: 7043 entries, 0 to 7042\n",
      "Data columns (total 21 columns):\n",
      " #   Column            Non-Null Count  Dtype  \n",
      "---  ------            --------------  -----  \n",
      " 0   customerID        7043 non-null   object \n",
      " 1   gender            7043 non-null   object \n",
      " 2   SeniorCitizen     7043 non-null   int64  \n",
      " 3   Partner           7043 non-null   object \n",
      " 4   Dependents        7043 non-null   object \n",
      " 5   tenure            7043 non-null   int64  \n",
      " 6   PhoneService      7043 non-null   object \n",
      " 7   MultipleLines     7043 non-null   object \n",
      " 8   InternetService   7043 non-null   object \n",
      " 9   OnlineSecurity    7043 non-null   object \n",
      " 10  OnlineBackup      7043 non-null   object \n",
      " 11  DeviceProtection  7043 non-null   object \n",
      " 12  TechSupport       7043 non-null   object \n",
      " 13  StreamingTV       7043 non-null   object \n",
      " 14  StreamingMovies   7043 non-null   object \n",
      " 15  Contract          7043 non-null   object \n",
      " 16  PaperlessBilling  7043 non-null   object \n",
      " 17  PaymentMethod     7043 non-null   object \n",
      " 18  MonthlyCharges    7043 non-null   float64\n",
      " 19  TotalCharges      7043 non-null   object \n",
      " 20  Churn             7043 non-null   object \n",
      "dtypes: float64(1), int64(2), object(18)\n",
      "memory usage: 1.1+ MB\n"
     ]
    }
   ],
   "source": [
    "#information about the features.\n",
    "telco.info()"
   ]
  },
  {
   "cell_type": "code",
   "execution_count": 74,
   "id": "7fa0dea4",
   "metadata": {},
   "outputs": [
    {
     "data": {
      "text/plain": [
       "<Axes: >"
      ]
     },
     "execution_count": 74,
     "metadata": {},
     "output_type": "execute_result"
    },
    {
     "data": {
      "image/png": "[encoded data removed]",
      "text/plain": [
       "<Figure size 2500x1000 with 2 Axes>"
      ]
     },
     "metadata": {},
     "output_type": "display_data"
    }
   ],
   "source": [
    "# Checking for missing values in the 'telco' DataFrame\n",
    "msno.matrix(telco)\n",
    "\n"
   ]
  },
  {
   "cell_type": "code",
   "execution_count": 75,
   "id": "b79d5a7e",
   "metadata": {},
   "outputs": [],
   "source": [
    "#Preprocessing\n",
    "# Convert 'TotalCharges' to numeric and fill missing values with 0\n",
    "telco['TotalCharges'] = pd.to_numeric(telco['TotalCharges'], errors='coerce').fillna(0)\n",
    "\n",
    "# Convert 'Churn' to binary values\n",
    "telco['Churn'] = telco['Churn'].map({'No': 0, 'Yes': 1})\n",
    "\n",
    "# Split the data into an 80-20 train-test split with a random state of 1\n",
    "X = telco.drop('Churn', axis=1)\n",
    "y = telco['Churn']\n",
    "X_train, X_test, y_train, y_test = train_test_split(X, y, test_size=0.2, random_state=1)\n",
    "\n",
    "# Select the specified features\n",
    "categorical = ['gender', 'SeniorCitizen', 'Partner', 'Dependents', 'PhoneService', 'MultipleLines',\n",
    "               'InternetService', 'OnlineSecurity', 'OnlineBackup', 'DeviceProtection', 'TechSupport',\n",
    "               'StreamingTV', 'StreamingMovies', 'Contract', 'PaperlessBilling', 'PaymentMethod']\n",
    "\n",
    "numerical = ['tenure', 'MonthlyCharges', 'TotalCharges']\n",
    "\n",
    "# Create new DataFrames with selected features\n",
    "X_train_selected = X_train[categorical + numerical]\n",
    "X_test_selected = X_test[categorical + numerical]\n"
   ]
  },
  {
   "cell_type": "code",
   "execution_count": 76,
   "id": "8486bc29",
   "metadata": {},
   "outputs": [],
   "source": [
    "# Initialize StandardScaler for numerical features\n",
    "scaler = StandardScaler()\n",
    "\n",
    "# Fit and transform the scaler on the training data, and transform the test data\n",
    "X_train_scaled = scaler.fit_transform(X_train_selected[numerical])\n",
    "X_test_scaled = scaler.transform(X_test_selected[numerical])\n",
    "\n",
    "# Create DataFrames from the scaled numerical features\n",
    "X_train_scaled_df = pd.DataFrame(X_train_scaled, columns=numerical)\n",
    "X_test_scaled_df = pd.DataFrame(X_test_scaled, columns=numerical)\n",
    "\n",
    "# Initialize OneHotEncoder with sparse_output=False for categorical features\n",
    "encoder = OneHotEncoder(sparse_output=False)\n",
    "\n",
    "# Fit and transform the encoder on the training data, and transform the test data\n",
    "X_train_encoded = encoder.fit_transform(X_train_selected[categorical])\n",
    "X_test_encoded = encoder.transform(X_test_selected[categorical])\n",
    "\n",
    "# Get the column names for the one-hot encoded features\n",
    "encoded_columns = encoder.get_feature_names_out(input_features=categorical)\n",
    "\n",
    "# Create DataFrames from the one-hot encoded categorical features\n",
    "X_train_encoded_df = pd.DataFrame(X_train_encoded, columns=encoded_columns)\n",
    "X_test_encoded_df = pd.DataFrame(X_test_encoded, columns=encoded_columns)\n",
    "\n",
    "# Combine scaled numerical and one-hot encoded categorical features\n",
    "X_train_final = pd.concat([X_train_scaled_df, X_train_encoded_df], axis=1)\n",
    "X_test_final = pd.concat([X_test_scaled_df, X_test_encoded_df], axis=1)\n"
   ]
  },
  {
   "cell_type": "markdown",
   "id": "78276d8b",
   "metadata": {},
   "source": [
    "## Question 14: What is the accuracy on the test set using the random forest classifier?"
   ]
  },
  {
   "cell_type": "code",
   "execution_count": 77,
   "id": "fae49acb",
   "metadata": {},
   "outputs": [
    {
     "name": "stdout",
     "output_type": "stream",
     "text": [
      "Accuracy on the test set using Random Forest Classifier: 0.7913\n"
     ]
    }
   ],
   "source": [
    "# Random Forest Classifier\n",
    "rf_model = RandomForestClassifier(random_state=1)\n",
    "rf_model.fit(X_train_final, y_train)\n",
    "rf_predictions = rf_model.predict(X_test_final)\n",
    "rf_accuracy = accuracy_score(y_test, rf_predictions)\n",
    "\n",
    "print(f\"Accuracy on the test set using Random Forest Classifier: {rf_accuracy:.4f}\")\n"
   ]
  },
  {
   "cell_type": "markdown",
   "id": "4245baff",
   "metadata": {},
   "source": [
    "## Question 15: What is the accuracy on the test set using the xgboost classifier?\n"
   ]
  },
  {
   "cell_type": "code",
   "execution_count": 78,
   "id": "c7bd6fc8",
   "metadata": {},
   "outputs": [
    {
     "name": "stdout",
     "output_type": "stream",
     "text": [
      "Accuracy on the test set using XGBoost Classifier: 0.7935\n"
     ]
    }
   ],
   "source": [
    "# XGBoost Classifier\n",
    "xgb_model = XGBClassifier(random_state=1)\n",
    "xgb_model.fit(X_train_final, y_train)\n",
    "xgb_predictions = xgb_model.predict(X_test_final)\n",
    "xgb_accuracy = accuracy_score(y_test, xgb_predictions)\n",
    "\n",
    "print(f\"Accuracy on the test set using XGBoost Classifier: {xgb_accuracy:.4f}\")\n"
   ]
  },
  {
   "cell_type": "markdown",
   "id": "e8e73eff",
   "metadata": {},
   "source": [
    "## Question 16: What is the accuracy on the test set using the LGBM classifier?\n",
    "\n"
   ]
  },
  {
   "cell_type": "code",
   "execution_count": 79,
   "id": "731172ce",
   "metadata": {},
   "outputs": [
    {
     "name": "stdout",
     "output_type": "stream",
     "text": [
      "[LightGBM] [Warning] Found whitespace in feature_names, replace with underlines\n",
      "[LightGBM] [Info] Number of positive: 1521, number of negative: 4113\n",
      "[LightGBM] [Info] Auto-choosing row-wise multi-threading, the overhead of testing was 0.002807 seconds.\n",
      "You can set `force_row_wise=true` to remove the overhead.\n",
      "And if memory is not enough, you can set `force_col_wise=true`.\n",
      "[LightGBM] [Info] Total Bins 670\n",
      "[LightGBM] [Info] Number of data points in the train set: 5634, number of used features: 46\n",
      "[LightGBM] [Info] [binary:BoostFromScore]: pavg=0.269968 -> initscore=-0.994785\n",
      "[LightGBM] [Info] Start training from score -0.994785\n",
      "Accuracy on the test set using LGBM Classifier: 0.8034\n"
     ]
    }
   ],
   "source": [
    "# LightGBM Classifier\n",
    "lgbm_model = LGBMClassifier(random_state=1)\n",
    "lgbm_model.fit(X_train_final, y_train)\n",
    "lgbm_predictions = lgbm_model.predict(X_test_final)\n",
    "lgbm_accuracy = accuracy_score(y_test, lgbm_predictions)\n",
    "\n",
    "print(f\"Accuracy on the test set using LGBM Classifier: {lgbm_accuracy:.4f}\")\n"
   ]
  },
  {
   "cell_type": "markdown",
   "id": "9820dc3e",
   "metadata": {},
   "source": [
    "The accuracy on the test set using LGBM Classifier is 0.8034"
   ]
  },
  {
   "cell_type": "markdown",
   "id": "48dad561",
   "metadata": {},
   "source": [
    "## Question 17: To improve the Extra Trees Classifier, you will use the following parameters (number of estimators, minimum number of samples, minimum number of samples for leaf node and the number of features to consider when looking for the best split) for the hyperparameter grid needed to run a Randomized Cross Validation Search (RandomizedSearchCV).\n",
    "\n",
    "n_estimators = [50, 100, 300, 500, 1000]\n",
    "\n",
    "min_samples_split = [2, 3, 5, 7, 9]\n",
    "\n",
    "min_samples_leaf = [1, 2, 4, 6, 8]\n",
    "\n",
    "max_features = ['auto', 'sqrt', 'log2', None]\n",
    "\n",
    "hyperparameter_grid = {'n_estimators': n_estimators,\n",
    "\n",
    "                   'min_samples_leaf': min_samples_leaf,\n",
    "\n",
    "                   'min_samples_split': min_samples_split,\n",
    "\n",
    "                   'max_features': max_features}\n",
    "Using the ExtraTreesClassifier as your estimator with cv=5, n_iter=10, scoring = 'accuracy', n_jobs = -1, verbose = 1 and random_state = 1. \n",
    "\n",
    "What are the best hyperparameters from the randomized search CV?\n",
    "\n"
   ]
  },
  {
   "cell_type": "code",
   "execution_count": null,
   "id": "f46e4b61",
   "metadata": {},
   "outputs": [
    {
     "name": "stdout",
     "output_type": "stream",
     "text": [
      "Fitting 5 folds for each of 10 candidates, totalling 50 fits\n"
     ]
    }
   ],
   "source": [
    "# Define a valid hyperparameter grid\n",
    "n_estimators = [50, 100, 300, 500, 1000]\n",
    "min_samples_split = [2, 3, 5, 7, 9]\n",
    "min_samples_leaf = [1, 2, 4, 6, 8]\n",
    "max_features = ['sqrt', 'log2', None]  # 'auto' is replaced with valid values\n",
    "\n",
    "hyperparameter_grid = {\n",
    "    'n_estimators': n_estimators,\n",
    "    'min_samples_leaf': min_samples_leaf,\n",
    "    'min_samples_split': min_samples_split,\n",
    "    'max_features': max_features\n",
    "}\n",
    "\n",
    "# Initialize the Extra Trees Classifier\n",
    "etc_model = ExtraTreesClassifier(random_state=1)\n",
    "\n",
    "# Initialize RandomizedSearchCV\n",
    "random_search = RandomizedSearchCV(etc_model, param_distributions=hyperparameter_grid,\n",
    "                                   n_iter=10, scoring='accuracy', cv=5, n_jobs=-1,\n",
    "                                   verbose=1, random_state=1)\n",
    "\n",
    "# Perform the random search for hyperparameters\n",
    "random_search.fit(X_train_final, y_train)\n",
    "\n",
    "# Retrieve the best hyperparameters\n",
    "best_hyperparameters = random_search.best_params_\n",
    "print(\"Best hyperparameters:\", best_hyperparameters)\n"
   ]
  },
  {
   "cell_type": "markdown",
   "id": "a61ea95b",
   "metadata": {},
   "source": [
    "## Question 18: Train a new ExtraTreesClassifier Model with the new Hyperparameters from the RandomizedSearchCV (with random_state = 1). Is the accuracy of the new optimal model higher or lower than the initial ExtraTreesClassifier model with no hyperparameter tuning?\n",
    "\n"
   ]
  },
  {
   "cell_type": "code",
   "execution_count": null,
   "id": "54470701",
   "metadata": {},
   "outputs": [],
   "source": [
    "# Create a new ExtraTreesClassifier with the best hyperparameters\n",
    "optimal_etc_model = ExtraTreesClassifier(random_state=1, **best_hyperparameters)\n",
    "\n",
    "# Train the new model with the best hyperparameters\n",
    "optimal_etc_model.fit(X_train_final, y_train)\n",
    "\n",
    "# Make predictions with the new model\n",
    "optimal_etc_predictions = optimal_etc_model.predict(X_test_final)\n",
    "\n",
    "# Calculate accuracy for the new model\n",
    "optimal_etc_accuracy = accuracy_score(y_test, optimal_etc_predictions)\n",
    "\n",
    "print(f\"Accuracy of the new optimal ExtraTreesClassifier: {optimal_etc_accuracy:.4f}\")\n"
   ]
  },
  {
   "cell_type": "markdown",
   "id": "8d968dfd",
   "metadata": {},
   "source": [
    "From the accuracy of the new optimal ExtraTreesClassifier, which is 0.8062,the accuracy of the new optimal ExtraTreesClassifier is higher (0.8062) compared to the initial ExtraTreesClassifier model without hyperparameter tuning."
   ]
  },
  {
   "cell_type": "markdown",
   "id": "5ec1e797",
   "metadata": {},
   "source": [
    "## Question 19: What other hyperparameters can be tuned for ExtraTreeClassifer?\n",
    "\n"
   ]
  },
  {
   "cell_type": "markdown",
   "id": "a0f55a67",
   "metadata": {},
   "source": [
    "The hyperparameters are n_estimators, min_samples_split, min_samples_leaf, and max_features, the ExtraTreesClassifier in scikit-learn offers several other hyperparameters that can be tuned to further fine-tune the model's performance. Some of these additional hyperparameters include:\n",
    "\n",
    " max_depth: Maximum depth of the tree. Controlling the depth of the tree can help prevent overfitting. You can set an appropriate maximum depth based on your dataset.\n",
    "\n",
    " min_impurity_decrease: Minimum decrease in impurity required for a split to happen. It controls when a node is split based on impurity reduction.\n",
    "\n",
    " max_leaf_nodes: The maximum number of leaf nodes in the tree. It can be used to limit the size of the tree.\n",
    "\n",
    " bootstrap: A boolean flag that indicates whether or not bootstrap samples should be used when building trees.\n",
    "\n",
    " class_weight: You can assign weights to classes to handle class imbalance. It's especially useful when you have imbalanced data.\n",
    "\n",
    " criterion: The function to measure the quality of a split, which can be 'gini' or 'entropy'.\n",
    "\n",
    " warm_start: If set to True, reuse the solution of the previous call to fit and add more estimators to the ensemble.\n",
    "\n",
    " oob_score: If set to True, it computes the out-of-bag score, which is an estimate of the classifier's accuracy based on the samples not used in the training set.\n",
    "\n",
    " random_state: Seed for random number generation. Setting it ensures reproducibility.\n",
    "\n",
    " verbose: Controls the verbosity of the ensemble model.\n",
    "\n",
    "The choice of which hyperparameters to tune depends on the specific problem, dataset, and desired model behavior. It's often beneficial to perform a systematic search and cross-validation to find the combination of hyperparameters that works best for your particular use case.\n"
   ]
  },
  {
   "cell_type": "markdown",
   "id": "708b9cc3",
   "metadata": {},
   "source": [
    "The answer is Both B and C because The ExtraTreesClassifier allows you to tune the following hyperparameters:\n",
    "\n",
    "B. max_leaf_nodes: The maximum number of leaf nodes in the tree.\n",
    "C. min_weight_fraction_leaf: Minimum weighted fraction of the sum total of weights required to be at a leaf node.\n",
    "\n"
   ]
  },
  {
   "cell_type": "markdown",
   "id": "b46101b3",
   "metadata": {},
   "source": [
    "## Question 20: Find the feature importance using the optimal ExtraTreesClassifier model. Which features are the two most important respectively?"
   ]
  },
  {
   "cell_type": "code",
   "execution_count": null,
   "id": "5b13e49a",
   "metadata": {},
   "outputs": [],
   "source": [
    "# Get feature importances from the optimal ExtraTreesClassifier model\n",
    "feature_importances = optimal_etc_model.feature_importances_\n",
    "\n",
    "# Create a DataFrame to store feature importance along with their names\n",
    "feature_importance_df = pd.DataFrame({'Feature': X_train_final.columns, 'Importance': feature_importances})\n",
    "\n",
    "# Sort by importance in descending order\n",
    "feature_importance_df = feature_importance_df.sort_values(by='Importance', ascending=False)\n",
    "\n",
    "# Get the two most important features\n",
    "top_features = feature_importance_df.head(2)\n",
    "\n",
    "print(\"The two most important features are:\")\n",
    "print(top_features)\n"
   ]
  },
  {
   "cell_type": "markdown",
   "id": "e8c1d5a3",
   "metadata": {},
   "source": [
    "The two most important features are Contract-Month-to-Month and tenure "
   ]
  }
 ],
 "metadata": {
  "kernelspec": {
   "display_name": "Python 3 (ipykernel)",
   "language": "python",
   "name": "python3"
  },
  "language_info": {
   "codemirror_mode": {
    "name": "ipython",
    "version": 3
   },
   "file_extension": ".py",
   "mimetype": "text/x-python",
   "name": "python",
   "nbconvert_exporter": "python",
   "pygments_lexer": "ipython3",
   "version": "3.11.4"
  }
 },
 "nbformat": 4,
 "nbformat_minor": 5
}
